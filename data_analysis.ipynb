{
 "cells": [
  {
   "cell_type": "markdown",
   "metadata": {},
   "source": [
    "# Importing packages "
   ]
  },
  {
   "cell_type": "code",
   "execution_count": 48,
   "metadata": {},
   "outputs": [
    {
     "name": "stdout",
     "output_type": "stream",
     "text": [
      "The memory_profiler extension is already loaded. To reload it, use:\n",
      "  %reload_ext memory_profiler\n"
     ]
    }
   ],
   "source": [
    "# Data wrangling \n",
    "import pandas as pd \n",
    "\n",
    "# Deep learning \n",
    "import tensorflow as tf\n",
    "import keras \n",
    "\n",
    "# Array math \n",
    "import numpy as np\n",
    "\n",
    "# Loading the memory profile extension\n",
    "%load_ext memory_profiler"
   ]
  },
  {
   "cell_type": "markdown",
   "metadata": {},
   "source": [
    "# Reading the data "
   ]
  },
  {
   "cell_type": "code",
   "execution_count": 49,
   "metadata": {},
   "outputs": [
    {
     "name": "stdout",
     "output_type": "stream",
     "text": [
      "Shape of the data: (1458644, 11)\n",
      "        vendor_id  passenger_count  pickup_longitude  pickup_latitude  \\\n",
      "count  1458644.00       1458644.00        1458644.00       1458644.00   \n",
      "mean         1.53             1.66            -73.97            40.75   \n",
      "std          0.50             1.31              0.07             0.03   \n",
      "min          1.00             0.00           -121.93            34.36   \n",
      "25%          1.00             1.00            -73.99            40.74   \n",
      "50%          2.00             1.00            -73.98            40.75   \n",
      "75%          2.00             2.00            -73.97            40.77   \n",
      "max          2.00             9.00            -61.34            51.88   \n",
      "\n",
      "       dropoff_longitude  dropoff_latitude  trip_duration  \n",
      "count         1458644.00        1458644.00     1458644.00  \n",
      "mean              -73.97             40.75         959.49  \n",
      "std                 0.07              0.04        5237.43  \n",
      "min              -121.93             32.18           1.00  \n",
      "25%               -73.99             40.74         397.00  \n",
      "50%               -73.98             40.75         662.00  \n",
      "75%               -73.96             40.77        1075.00  \n",
      "max               -61.34             43.92     3526282.00  \n"
     ]
    }
   ],
   "source": [
    "d = pd.read_csv('data/train.csv')\n",
    "\n",
    "print(f\"Shape of the data: {d.shape}\")\n",
    "print(d.describe().round(2))"
   ]
  },
  {
   "cell_type": "code",
   "execution_count": 50,
   "metadata": {},
   "outputs": [
    {
     "data": {
      "text/html": [
       "<div>\n",
       "<style scoped>\n",
       "    .dataframe tbody tr th:only-of-type {\n",
       "        vertical-align: middle;\n",
       "    }\n",
       "\n",
       "    .dataframe tbody tr th {\n",
       "        vertical-align: top;\n",
       "    }\n",
       "\n",
       "    .dataframe thead th {\n",
       "        text-align: right;\n",
       "    }\n",
       "</style>\n",
       "<table border=\"1\" class=\"dataframe\">\n",
       "  <thead>\n",
       "    <tr style=\"text-align: right;\">\n",
       "      <th></th>\n",
       "      <th>id</th>\n",
       "      <th>vendor_id</th>\n",
       "      <th>pickup_datetime</th>\n",
       "      <th>dropoff_datetime</th>\n",
       "      <th>passenger_count</th>\n",
       "      <th>pickup_longitude</th>\n",
       "      <th>pickup_latitude</th>\n",
       "      <th>dropoff_longitude</th>\n",
       "      <th>dropoff_latitude</th>\n",
       "      <th>store_and_fwd_flag</th>\n",
       "      <th>trip_duration</th>\n",
       "    </tr>\n",
       "  </thead>\n",
       "  <tbody>\n",
       "    <tr>\n",
       "      <th>0</th>\n",
       "      <td>id2875421</td>\n",
       "      <td>2</td>\n",
       "      <td>2016-03-14 17:24:55</td>\n",
       "      <td>2016-03-14 17:32:30</td>\n",
       "      <td>1</td>\n",
       "      <td>-73.982155</td>\n",
       "      <td>40.767937</td>\n",
       "      <td>-73.964630</td>\n",
       "      <td>40.765602</td>\n",
       "      <td>N</td>\n",
       "      <td>455</td>\n",
       "    </tr>\n",
       "    <tr>\n",
       "      <th>1</th>\n",
       "      <td>id2377394</td>\n",
       "      <td>1</td>\n",
       "      <td>2016-06-12 00:43:35</td>\n",
       "      <td>2016-06-12 00:54:38</td>\n",
       "      <td>1</td>\n",
       "      <td>-73.980415</td>\n",
       "      <td>40.738564</td>\n",
       "      <td>-73.999481</td>\n",
       "      <td>40.731152</td>\n",
       "      <td>N</td>\n",
       "      <td>663</td>\n",
       "    </tr>\n",
       "    <tr>\n",
       "      <th>2</th>\n",
       "      <td>id3858529</td>\n",
       "      <td>2</td>\n",
       "      <td>2016-01-19 11:35:24</td>\n",
       "      <td>2016-01-19 12:10:48</td>\n",
       "      <td>1</td>\n",
       "      <td>-73.979027</td>\n",
       "      <td>40.763939</td>\n",
       "      <td>-74.005333</td>\n",
       "      <td>40.710087</td>\n",
       "      <td>N</td>\n",
       "      <td>2124</td>\n",
       "    </tr>\n",
       "    <tr>\n",
       "      <th>3</th>\n",
       "      <td>id3504673</td>\n",
       "      <td>2</td>\n",
       "      <td>2016-04-06 19:32:31</td>\n",
       "      <td>2016-04-06 19:39:40</td>\n",
       "      <td>1</td>\n",
       "      <td>-74.010040</td>\n",
       "      <td>40.719971</td>\n",
       "      <td>-74.012268</td>\n",
       "      <td>40.706718</td>\n",
       "      <td>N</td>\n",
       "      <td>429</td>\n",
       "    </tr>\n",
       "    <tr>\n",
       "      <th>4</th>\n",
       "      <td>id2181028</td>\n",
       "      <td>2</td>\n",
       "      <td>2016-03-26 13:30:55</td>\n",
       "      <td>2016-03-26 13:38:10</td>\n",
       "      <td>1</td>\n",
       "      <td>-73.973053</td>\n",
       "      <td>40.793209</td>\n",
       "      <td>-73.972923</td>\n",
       "      <td>40.782520</td>\n",
       "      <td>N</td>\n",
       "      <td>435</td>\n",
       "    </tr>\n",
       "    <tr>\n",
       "      <th>...</th>\n",
       "      <td>...</td>\n",
       "      <td>...</td>\n",
       "      <td>...</td>\n",
       "      <td>...</td>\n",
       "      <td>...</td>\n",
       "      <td>...</td>\n",
       "      <td>...</td>\n",
       "      <td>...</td>\n",
       "      <td>...</td>\n",
       "      <td>...</td>\n",
       "      <td>...</td>\n",
       "    </tr>\n",
       "    <tr>\n",
       "      <th>1458639</th>\n",
       "      <td>id2376096</td>\n",
       "      <td>2</td>\n",
       "      <td>2016-04-08 13:31:04</td>\n",
       "      <td>2016-04-08 13:44:02</td>\n",
       "      <td>4</td>\n",
       "      <td>-73.982201</td>\n",
       "      <td>40.745522</td>\n",
       "      <td>-73.994911</td>\n",
       "      <td>40.740170</td>\n",
       "      <td>N</td>\n",
       "      <td>778</td>\n",
       "    </tr>\n",
       "    <tr>\n",
       "      <th>1458640</th>\n",
       "      <td>id1049543</td>\n",
       "      <td>1</td>\n",
       "      <td>2016-01-10 07:35:15</td>\n",
       "      <td>2016-01-10 07:46:10</td>\n",
       "      <td>1</td>\n",
       "      <td>-74.000946</td>\n",
       "      <td>40.747379</td>\n",
       "      <td>-73.970184</td>\n",
       "      <td>40.796547</td>\n",
       "      <td>N</td>\n",
       "      <td>655</td>\n",
       "    </tr>\n",
       "    <tr>\n",
       "      <th>1458641</th>\n",
       "      <td>id2304944</td>\n",
       "      <td>2</td>\n",
       "      <td>2016-04-22 06:57:41</td>\n",
       "      <td>2016-04-22 07:10:25</td>\n",
       "      <td>1</td>\n",
       "      <td>-73.959129</td>\n",
       "      <td>40.768799</td>\n",
       "      <td>-74.004433</td>\n",
       "      <td>40.707371</td>\n",
       "      <td>N</td>\n",
       "      <td>764</td>\n",
       "    </tr>\n",
       "    <tr>\n",
       "      <th>1458642</th>\n",
       "      <td>id2714485</td>\n",
       "      <td>1</td>\n",
       "      <td>2016-01-05 15:56:26</td>\n",
       "      <td>2016-01-05 16:02:39</td>\n",
       "      <td>1</td>\n",
       "      <td>-73.982079</td>\n",
       "      <td>40.749062</td>\n",
       "      <td>-73.974632</td>\n",
       "      <td>40.757107</td>\n",
       "      <td>N</td>\n",
       "      <td>373</td>\n",
       "    </tr>\n",
       "    <tr>\n",
       "      <th>1458643</th>\n",
       "      <td>id1209952</td>\n",
       "      <td>1</td>\n",
       "      <td>2016-04-05 14:44:25</td>\n",
       "      <td>2016-04-05 14:47:43</td>\n",
       "      <td>1</td>\n",
       "      <td>-73.979538</td>\n",
       "      <td>40.781750</td>\n",
       "      <td>-73.972809</td>\n",
       "      <td>40.790585</td>\n",
       "      <td>N</td>\n",
       "      <td>198</td>\n",
       "    </tr>\n",
       "  </tbody>\n",
       "</table>\n",
       "<p>1458644 rows × 11 columns</p>\n",
       "</div>"
      ],
      "text/plain": [
       "                id  vendor_id      pickup_datetime     dropoff_datetime  \\\n",
       "0        id2875421          2  2016-03-14 17:24:55  2016-03-14 17:32:30   \n",
       "1        id2377394          1  2016-06-12 00:43:35  2016-06-12 00:54:38   \n",
       "2        id3858529          2  2016-01-19 11:35:24  2016-01-19 12:10:48   \n",
       "3        id3504673          2  2016-04-06 19:32:31  2016-04-06 19:39:40   \n",
       "4        id2181028          2  2016-03-26 13:30:55  2016-03-26 13:38:10   \n",
       "...            ...        ...                  ...                  ...   \n",
       "1458639  id2376096          2  2016-04-08 13:31:04  2016-04-08 13:44:02   \n",
       "1458640  id1049543          1  2016-01-10 07:35:15  2016-01-10 07:46:10   \n",
       "1458641  id2304944          2  2016-04-22 06:57:41  2016-04-22 07:10:25   \n",
       "1458642  id2714485          1  2016-01-05 15:56:26  2016-01-05 16:02:39   \n",
       "1458643  id1209952          1  2016-04-05 14:44:25  2016-04-05 14:47:43   \n",
       "\n",
       "         passenger_count  pickup_longitude  pickup_latitude  \\\n",
       "0                      1        -73.982155        40.767937   \n",
       "1                      1        -73.980415        40.738564   \n",
       "2                      1        -73.979027        40.763939   \n",
       "3                      1        -74.010040        40.719971   \n",
       "4                      1        -73.973053        40.793209   \n",
       "...                  ...               ...              ...   \n",
       "1458639                4        -73.982201        40.745522   \n",
       "1458640                1        -74.000946        40.747379   \n",
       "1458641                1        -73.959129        40.768799   \n",
       "1458642                1        -73.982079        40.749062   \n",
       "1458643                1        -73.979538        40.781750   \n",
       "\n",
       "         dropoff_longitude  dropoff_latitude store_and_fwd_flag  trip_duration  \n",
       "0               -73.964630         40.765602                  N            455  \n",
       "1               -73.999481         40.731152                  N            663  \n",
       "2               -74.005333         40.710087                  N           2124  \n",
       "3               -74.012268         40.706718                  N            429  \n",
       "4               -73.972923         40.782520                  N            435  \n",
       "...                    ...               ...                ...            ...  \n",
       "1458639         -73.994911         40.740170                  N            778  \n",
       "1458640         -73.970184         40.796547                  N            655  \n",
       "1458641         -74.004433         40.707371                  N            764  \n",
       "1458642         -73.974632         40.757107                  N            373  \n",
       "1458643         -73.972809         40.790585                  N            198  \n",
       "\n",
       "[1458644 rows x 11 columns]"
      ]
     },
     "execution_count": 50,
     "metadata": {},
     "output_type": "execute_result"
    }
   ],
   "source": [
    "d"
   ]
  },
  {
   "cell_type": "code",
   "execution_count": 51,
   "metadata": {},
   "outputs": [
    {
     "name": "stdout",
     "output_type": "stream",
     "text": [
      "peak memory: 2818.54 MiB, increment: 0.00 MiB\n"
     ]
    }
   ],
   "source": [
    "# Checking the memory usage \n",
    "%memit d"
   ]
  },
  {
   "cell_type": "markdown",
   "metadata": {},
   "source": [
    "The data in memory uses ~873MB of RAM "
   ]
  },
  {
   "cell_type": "markdown",
   "metadata": {},
   "source": [
    "# Feature engineering "
   ]
  },
  {
   "cell_type": "markdown",
   "metadata": {},
   "source": [
    "## Date variables "
   ]
  },
  {
   "cell_type": "code",
   "execution_count": 52,
   "metadata": {},
   "outputs": [],
   "source": [
    "def create_date_vars(d):\n",
    "    \"\"\"\n",
    "    Creates the datetime variables\n",
    "    \"\"\"\n",
    "    # Infering the day of the week from pickup_datetime\n",
    "    d['pickup_datetime'] = pd.to_datetime(d['pickup_datetime'])\n",
    "    d['pickup_dayofweek'] = d['pickup_datetime'].dt.dayofweek\n",
    "\n",
    "    # Infering the hour of the day from pickup_datetime\n",
    "    d['pickup_hour'] = d['pickup_datetime'].dt.hour\n",
    "\n",
    "    # Creating a new variable for the day of the year\n",
    "    d['pickup_dayofyear'] = d['pickup_datetime'].dt.dayofyear\n",
    "\n",
    "    # Ensuring a monotonic relationship between pickup_hour and pickup_dayofyear\n",
    "    d['pickup_hour_sin'] = np.sin(2 * np.pi * d['pickup_hour']/23.0)\n",
    "    d['pickup_hour_cos'] = np.cos(2 * np.pi * d['pickup_hour']/23.0)\n",
    "\n",
    "    d['pickup_dayofyear_sin'] = np.sin(2 * np.pi * d['pickup_dayofyear']/365.0)\n",
    "    d['pickup_dayofyear_cos'] = np.cos(2 * np.pi * d['pickup_dayofyear']/365.0)\n",
    "\n",
    "    return d"
   ]
  },
  {
   "cell_type": "markdown",
   "metadata": {},
   "source": [
    "## Dummy variables\n",
    "\n",
    "The features that will be one-hot encoded: \n",
    "\n",
    "* store_and_fwd_flag\n",
    "* vendor_id \n",
    "* pickup_dayofweek"
   ]
  },
  {
   "cell_type": "code",
   "execution_count": 53,
   "metadata": {},
   "outputs": [],
   "source": [
    "# Defining the dummy var list \n",
    "dummy_features = [\n",
    "    'vendor_id',\n",
    "    'store_and_fwd_flag',\n",
    "    'pickup_dayofweek'\n",
    "]\n",
    "\n",
    "# Defining the function for dummy creation \n",
    "def create_dummy(df, dummy_var_list):\n",
    "    # Placeholder for the dummy variables\n",
    "    added_features = []\n",
    "    for var in dummy_var_list:\n",
    "        dummy = pd.get_dummies(df[var], prefix=var, drop_first=True)\n",
    "        \n",
    "        # Adding the new features to list \n",
    "        added_features.extend(dummy.columns)\n",
    "\n",
    "        # Adding the dummy variables to the dataframe\n",
    "        df = pd.concat([df, dummy], axis=1)\n",
    "        df.drop(var, axis=1, inplace=True)\n",
    "\n",
    "    # Returning the dataframe \n",
    "    return df, added_features"
   ]
  },
  {
   "cell_type": "markdown",
   "metadata": {},
   "source": [
    "## Distance of travel "
   ]
  },
  {
   "cell_type": "code",
   "execution_count": 54,
   "metadata": {},
   "outputs": [],
   "source": [
    "# Defining the function for distance calculation\n",
    "def distance_calculation(df):\n",
    "    \"\"\"\n",
    "    Calculates the distance between two points on the earth's surface.\n",
    "\n",
    "    The distance is in meters\n",
    "    \"\"\"\n",
    "    R = 6373.0\n",
    "\n",
    "    lat1 = np.radians(df['pickup_latitude'])\n",
    "    lon1 = np.radians(df['pickup_longitude'])\n",
    "    lat2 = np.radians(df['dropoff_latitude'])\n",
    "    lon2 = np.radians(df['dropoff_longitude'])\n",
    "\n",
    "    dlon = lon2 - lon1\n",
    "    dlat = lat2 - lat1\n",
    "\n",
    "    a = np.sin(dlat / 2)**2 + np.cos(lat1) * np.cos(lat2) * np.sin(dlon / 2)**2\n",
    "    c = 2 * np.arctan2(np.sqrt(a), np.sqrt(1 - a))\n",
    "\n",
    "    distance = R * c\n",
    "\n",
    "    # Saving the distance to the dataframe\n",
    "    df['distance'] = distance * 1000 # Converting to meters\n",
    "    return df "
   ]
  },
  {
   "cell_type": "markdown",
   "metadata": {},
   "source": [
    "## Final feature list and the ft engineering pipeline \n"
   ]
  },
  {
   "cell_type": "code",
   "execution_count": 59,
   "metadata": {},
   "outputs": [],
   "source": [
    "# Defining the final feature list \n",
    "numeric_features = [\n",
    "    'distance',\n",
    "    'passenger_count', \n",
    "    'pickup_hour_sin',\n",
    "    'pickup_hour_cos',\n",
    "    'pickup_dayofyear_sin',\n",
    "    'pickup_dayofyear_cos',\n",
    "]\n",
    "\n",
    "# Defining the target variable\n",
    "target = 'trip_duration'\n",
    "\n",
    "# Defining the ft engineering pipeline \n",
    "def ft_engineering_pipeline(\n",
    "    df, \n",
    "    numeric_features, \n",
    "    dummy_features,\n",
    "    target):\n",
    "    \"\"\"\n",
    "    Applies the feature engineering pipeline to the data\n",
    "    \"\"\"\n",
    "    # Creating the date variables\n",
    "    df = create_date_vars(df)\n",
    "\n",
    "    # Creating the dummy variables\n",
    "    df, new_features = create_dummy(df, dummy_features)\n",
    "\n",
    "    # Appending the distance\n",
    "    df = distance_calculation(df) \n",
    "\n",
    "    # Appending the new features to the numeric features\n",
    "    final_features = numeric_features + new_features\n",
    "\n",
    "    # Creating the x matrix \n",
    "    x = df[final_features].values\n",
    "\n",
    "    # Creating the y vector\n",
    "    y = df[target].values\n",
    "\n",
    "    # Returning the x and y matrices\n",
    "    return x, y, final_features"
   ]
  },
  {
   "cell_type": "markdown",
   "metadata": {},
   "source": [
    "# Creating the input for model "
   ]
  },
  {
   "cell_type": "code",
   "execution_count": 60,
   "metadata": {},
   "outputs": [],
   "source": [
    "x, y, features = ft_engineering_pipeline(d, numeric_features, dummy_features, target)"
   ]
  },
  {
   "cell_type": "code",
   "execution_count": 61,
   "metadata": {},
   "outputs": [
    {
     "name": "stdout",
     "output_type": "stream",
     "text": [
      "Shape of x: (1458644, 14) | Shape of y: (1458644,)\n",
      "['distance', 'passenger_count', 'pickup_hour_sin', 'pickup_hour_cos', 'pickup_dayofyear_sin', 'pickup_dayofyear_cos', 'vendor_id_2', 'store_and_fwd_flag_Y', 'pickup_dayofweek_1', 'pickup_dayofweek_2', 'pickup_dayofweek_3', 'pickup_dayofweek_4', 'pickup_dayofweek_5', 'pickup_dayofweek_6']\n"
     ]
    }
   ],
   "source": [
    "print(f\"Shape of x: {x.shape} | Shape of y: {y.shape}\")\n",
    "print(features)"
   ]
  },
  {
   "cell_type": "code",
   "execution_count": null,
   "metadata": {},
   "outputs": [],
   "source": []
  }
 ],
 "metadata": {
  "kernelspec": {
   "display_name": "Python 3.10.4 ('cuda_gpu_env')",
   "language": "python",
   "name": "python3"
  },
  "language_info": {
   "codemirror_mode": {
    "name": "ipython",
    "version": 3
   },
   "file_extension": ".py",
   "mimetype": "text/x-python",
   "name": "python",
   "nbconvert_exporter": "python",
   "pygments_lexer": "ipython3",
   "version": "3.10.4"
  },
  "orig_nbformat": 4,
  "vscode": {
   "interpreter": {
    "hash": "1843498fe16f59076ae8a859587e2a2b45b21ed510245a5df4c4791774183e51"
   }
  }
 },
 "nbformat": 4,
 "nbformat_minor": 2
}
